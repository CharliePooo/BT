{
  "nbformat": 4,
  "nbformat_minor": 0,
  "metadata": {
    "colab": {
      "provenance": [],
      "mount_file_id": "1cAnS1HP_K182zJ0Os4KtBwtLbbZ9a54s",
      "authorship_tag": "ABX9TyNFzVg6dnikQjeLsW/Yj43w",
      "include_colab_link": true
    },
    "kernelspec": {
      "name": "python3",
      "display_name": "Python 3"
    },
    "language_info": {
      "name": "python"
    }
  },
  "cells": [
    {
      "cell_type": "markdown",
      "metadata": {
        "id": "view-in-github",
        "colab_type": "text"
      },
      "source": [
        "<a href=\"https://colab.research.google.com/github/LeDuyThanhUTE/BT/blob/main/BTCNN.ipynb\" target=\"_parent\"><img src=\"https://colab.research.google.com/assets/colab-badge.svg\" alt=\"Open In Colab\"/></a>"
      ]
    },
    {
      "cell_type": "code",
      "execution_count": 6,
      "metadata": {
        "id": "cyZFS7eRINW_"
      },
      "outputs": [],
      "source": [
        "#cơ bản\n",
        "import os\n",
        "import cv2\n",
        "import matplotlib.pyplot as plt\n",
        "import pandas as pd\n",
        "import numpy as np\n",
        "import glob\n",
        "from tqdm import tqdm \n",
        "#CNN\n",
        "import keras\n",
        "from sklearn.model_selection import train_test_split\n",
        "#face reg\n",
        "import dlib\n",
        "\n"
      ]
    },
    {
      "cell_type": "code",
      "source": [
        "!pip install dlib"
      ],
      "metadata": {
        "colab": {
          "base_uri": "https://localhost:8080/"
        },
        "id": "7xDzQ8VIfkmB",
        "outputId": "00592359-e151-4a20-cdf8-b81bcefef02a"
      },
      "execution_count": 1,
      "outputs": [
        {
          "output_type": "stream",
          "name": "stdout",
          "text": [
            "Looking in indexes: https://pypi.org/simple, https://us-python.pkg.dev/colab-wheels/public/simple/\n",
            "Requirement already satisfied: dlib in /usr/local/lib/python3.7/dist-packages (19.24.0)\n"
          ]
        }
      ]
    },
    {
      "cell_type": "code",
      "source": [
        "tr_paths = glob.glob('/content/drive/MyDrive/AI/training/*.jpg')\n",
        "print(train)"
      ],
      "metadata": {
        "colab": {
          "base_uri": "https://localhost:8080/"
        },
        "id": "QKJzZaRBN3eO",
        "outputId": "1447c5b8-46d5-4876-d7ae-621eb8a132ff"
      },
      "execution_count": 15,
      "outputs": [
        {
          "output_type": "stream",
          "name": "stdout",
          "text": [
            "[]\n"
          ]
        }
      ]
    },
    {
      "cell_type": "code",
      "source": [
        "dataframe = pd.DataFrame(columns=['image','label','name'])\n",
        "print(dataframe)"
      ],
      "metadata": {
        "colab": {
          "base_uri": "https://localhost:8080/"
        },
        "id": "jfylMiXjP8Zb",
        "outputId": "c83eb418-1ef6-408f-aa13-3cbd2e017887"
      },
      "execution_count": 5,
      "outputs": [
        {
          "output_type": "stream",
          "name": "stdout",
          "text": [
            "Empty DataFrame\n",
            "Columns: [image, label, name]\n",
            "Index: []\n"
          ]
        }
      ]
    },
    {
      "cell_type": "code",
      "source": [
        "for i,train in tqdm(enumerate(tr_paths)):\n",
        "  name = train.split('\\\\')[1]\n",
        "  images = glob.glob(train + '/*')\n",
        "  for image in images:\n",
        "    dataframe.loc[len(dataframe)] = [images,i,name]\n",
        "\n",
        "print(dataframe)"
      ],
      "metadata": {
        "id": "k9GSVdBKO__W",
        "colab": {
          "base_uri": "https://localhost:8080/"
        },
        "outputId": "162dce4b-42f1-47f9-fc8b-d7ac4192da23"
      },
      "execution_count": 9,
      "outputs": [
        {
          "output_type": "stream",
          "name": "stderr",
          "text": [
            "0it [00:00, ?it/s]"
          ]
        },
        {
          "output_type": "stream",
          "name": "stdout",
          "text": [
            "Empty DataFrame\n",
            "Columns: [image, label, name]\n",
            "Index: []\n"
          ]
        },
        {
          "output_type": "stream",
          "name": "stderr",
          "text": [
            "\n"
          ]
        }
      ]
    }
  ]
}